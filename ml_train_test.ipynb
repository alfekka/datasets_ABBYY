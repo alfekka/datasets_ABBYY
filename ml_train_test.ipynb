{
  "nbformat": 4,
  "nbformat_minor": 0,
  "metadata": {
    "colab": {
      "name": "ml_train_test.ipynb",
      "provenance": [],
      "authorship_tag": "ABX9TyM3+jFTfsJ+2XimmtJn23W2",
      "include_colab_link": true
    },
    "kernelspec": {
      "display_name": "Python 3",
      "name": "python3"
    },
    "language_info": {
      "name": "python"
    }
  },
  "cells": [
    {
      "cell_type": "markdown",
      "metadata": {
        "id": "view-in-github",
        "colab_type": "text"
      },
      "source": [
        "<a href=\"https://colab.research.google.com/github/alfekka/datasets_ABBYY/blob/main/ml_train_test.ipynb\" target=\"_parent\"><img src=\"https://colab.research.google.com/assets/colab-badge.svg\" alt=\"Open In Colab\"/></a>"
      ]
    },
    {
      "cell_type": "code",
      "metadata": {
        "colab": {
          "base_uri": "https://localhost:8080/"
        },
        "id": "eEngyJhYncGz",
        "outputId": "31007c1e-92b2-4517-b4b2-bd10608122b1"
      },
      "source": [
        "from google.colab import drive\n",
        "drive.mount('/content/drive')"
      ],
      "execution_count": 2,
      "outputs": [
        {
          "output_type": "stream",
          "text": [
            "Drive already mounted at /content/drive; to attempt to forcibly remount, call drive.mount(\"/content/drive\", force_remount=True).\n"
          ],
          "name": "stdout"
        }
      ]
    },
    {
      "cell_type": "code",
      "metadata": {
        "colab": {
          "base_uri": "https://localhost:8080/"
        },
        "id": "6brg0MydJJ0s",
        "outputId": "162649a3-b39c-4ec7-e13a-2272a3559d08"
      },
      "source": [
        "import pandas as pd\n",
        "import numpy as np\n",
        "import string\n",
        "import matplotlib.pyplot as plt\n",
        "\n",
        "import nltk\n",
        "from nltk.stem import WordNetLemmatizer, SnowballStemmer\n",
        "nltk.download('wordnet')\n",
        "nltk.download('punkt')\n",
        "stemmer = SnowballStemmer('russian')\n",
        "\n",
        "from sklearn.feature_extraction.text import CountVectorizer, TfidfTransformer\n",
        "from sklearn.decomposition import TruncatedSVD\n",
        "from sklearn.preprocessing import MinMaxScaler\n",
        "\n",
        "from sklearn.naive_bayes import MultinomialNB\n",
        "from sklearn.cluster import KMeans, DBSCAN\n",
        "\n",
        "from sklearn.metrics import accuracy_score, confusion_matrix, classification_report\n",
        "from sklearn.metrics.cluster import adjusted_rand_score\n",
        "from sklearn.metrics.cluster import fowlkes_mallows_score\n",
        "\n",
        "import seaborn as sns\n",
        "\n",
        "from yellowbrick.text import FreqDistVisualizer, TSNEVisualizer\n",
        "\n",
        "from sklearn.pipeline import Pipeline \n",
        "from sklearn.model_selection import cross_val_score, train_test_split, GridSearchCV, RandomizedSearchCV"
      ],
      "execution_count": 3,
      "outputs": [
        {
          "output_type": "stream",
          "text": [
            "[nltk_data] Downloading package wordnet to /root/nltk_data...\n",
            "[nltk_data]   Package wordnet is already up-to-date!\n",
            "[nltk_data] Downloading package punkt to /root/nltk_data...\n",
            "[nltk_data]   Package punkt is already up-to-date!\n"
          ],
          "name": "stdout"
        },
        {
          "output_type": "stream",
          "text": [
            "/usr/local/lib/python3.7/dist-packages/sklearn/utils/deprecation.py:144: FutureWarning: The sklearn.metrics.classification module is  deprecated in version 0.22 and will be removed in version 0.24. The corresponding classes / functions should instead be imported from sklearn.metrics. Anything that cannot be imported from sklearn.metrics is now part of the private API.\n",
            "  warnings.warn(message, FutureWarning)\n"
          ],
          "name": "stderr"
        }
      ]
    },
    {
      "cell_type": "code",
      "metadata": {
        "colab": {
          "base_uri": "https://localhost:8080/",
          "height": 390
        },
        "id": "LkwA7VN6KYPK",
        "outputId": "4ff85987-671d-4cc0-dbd2-70902acc6b0d"
      },
      "source": [
        "data = pd.read_csv('/content/drive/My Drive/Corpus_project/basic_cleaning_tweets.csv')\n",
        "data.head(10)"
      ],
      "execution_count": 4,
      "outputs": [
        {
          "output_type": "stream",
          "text": [
            "/usr/local/lib/python3.7/dist-packages/IPython/core/interactiveshell.py:2718: DtypeWarning: Columns (1) have mixed types.Specify dtype option on import or set low_memory=False.\n",
            "  interactivity=interactivity, compiler=compiler, result=result)\n"
          ],
          "name": "stderr"
        },
        {
          "output_type": "execute_result",
          "data": {
            "text/html": [
              "<div>\n",
              "<style scoped>\n",
              "    .dataframe tbody tr th:only-of-type {\n",
              "        vertical-align: middle;\n",
              "    }\n",
              "\n",
              "    .dataframe tbody tr th {\n",
              "        vertical-align: top;\n",
              "    }\n",
              "\n",
              "    .dataframe thead th {\n",
              "        text-align: right;\n",
              "    }\n",
              "</style>\n",
              "<table border=\"1\" class=\"dataframe\">\n",
              "  <thead>\n",
              "    <tr style=\"text-align: right;\">\n",
              "      <th></th>\n",
              "      <th>Unnamed: 0</th>\n",
              "      <th>id</th>\n",
              "      <th>date</th>\n",
              "      <th>tweet</th>\n",
              "    </tr>\n",
              "  </thead>\n",
              "  <tbody>\n",
              "    <tr>\n",
              "      <th>0</th>\n",
              "      <td>0</td>\n",
              "      <td>1323414585366450176</td>\n",
              "      <td>2020-11-02 23:59:59+00:00</td>\n",
              "      <td>подружка скинула песни алены швец теперь лежу ...</td>\n",
              "    </tr>\n",
              "    <tr>\n",
              "      <th>1</th>\n",
              "      <td>1</td>\n",
              "      <td>1323414583663579141</td>\n",
              "      <td>2020-11-02 23:59:59+00:00</td>\n",
              "      <td>Лол ивент рашки окончен. Из сотки сундуков мне...</td>\n",
              "    </tr>\n",
              "    <tr>\n",
              "      <th>2</th>\n",
              "      <td>2</td>\n",
              "      <td>1323414582162034695</td>\n",
              "      <td>2020-11-02 23:59:58+00:00</td>\n",
              "      <td>Юи солнышко</td>\n",
              "    </tr>\n",
              "    <tr>\n",
              "      <th>3</th>\n",
              "      <td>3</td>\n",
              "      <td>1323414578055794691</td>\n",
              "      <td>2020-11-02 23:59:57+00:00</td>\n",
              "      <td>Дайте поспааать</td>\n",
              "    </tr>\n",
              "    <tr>\n",
              "      <th>4</th>\n",
              "      <td>4</td>\n",
              "      <td>1323414572162830339</td>\n",
              "      <td>2020-11-02 23:59:56+00:00</td>\n",
              "      <td>хочу ему написать..</td>\n",
              "    </tr>\n",
              "    <tr>\n",
              "      <th>5</th>\n",
              "      <td>5</td>\n",
              "      <td>1323414566420779010</td>\n",
              "      <td>2020-11-02 23:59:55+00:00</td>\n",
              "      <td>меня так сильно не торкнуло но она всё ещё хор...</td>\n",
              "    </tr>\n",
              "    <tr>\n",
              "      <th>6</th>\n",
              "      <td>6</td>\n",
              "      <td>1323414562788544512</td>\n",
              "      <td>2020-11-02 23:59:54+00:00</td>\n",
              "      <td>тааак я залезла на фикбук и очень надеюсь, что...</td>\n",
              "    </tr>\n",
              "    <tr>\n",
              "      <th>7</th>\n",
              "      <td>7</td>\n",
              "      <td>1323414560909463554</td>\n",
              "      <td>2020-11-02 23:59:53+00:00</td>\n",
              "      <td>Завтра +7? Звучит стремно</td>\n",
              "    </tr>\n",
              "    <tr>\n",
              "      <th>8</th>\n",
              "      <td>8</td>\n",
              "      <td>1323414555876360192</td>\n",
              "      <td>2020-11-02 23:59:52+00:00</td>\n",
              "      <td>Мне кажется, наша цель как можно больше дрочит...</td>\n",
              "    </tr>\n",
              "    <tr>\n",
              "      <th>9</th>\n",
              "      <td>9</td>\n",
              "      <td>1323414555817553920</td>\n",
              "      <td>2020-11-02 23:59:52+00:00</td>\n",
              "      <td>Что делать когда тебе кажется,что ты делаешь в...</td>\n",
              "    </tr>\n",
              "  </tbody>\n",
              "</table>\n",
              "</div>"
            ],
            "text/plain": [
              "   Unnamed: 0  ...                                              tweet\n",
              "0           0  ...  подружка скинула песни алены швец теперь лежу ...\n",
              "1           1  ...  Лол ивент рашки окончен. Из сотки сундуков мне...\n",
              "2           2  ...                                       Юи солнышко \n",
              "3           3  ...                                    Дайте поспааать\n",
              "4           4  ...                                хочу ему написать..\n",
              "5           5  ...  меня так сильно не торкнуло но она всё ещё хор...\n",
              "6           6  ...  тааак я залезла на фикбук и очень надеюсь, что...\n",
              "7           7  ...                          Завтра +7? Звучит стремно\n",
              "8           8  ...  Мне кажется, наша цель как можно больше дрочит...\n",
              "9           9  ...  Что делать когда тебе кажется,что ты делаешь в...\n",
              "\n",
              "[10 rows x 4 columns]"
            ]
          },
          "metadata": {
            "tags": []
          },
          "execution_count": 4
        }
      ]
    },
    {
      "cell_type": "code",
      "metadata": {
        "colab": {
          "base_uri": "https://localhost:8080/",
          "height": 34
        },
        "id": "lFSCII9oPUK5",
        "outputId": "bafe3d66-4a3b-43ed-987c-d7479c8825b5"
      },
      "source": [
        "data.tweet[0]"
      ],
      "execution_count": 5,
      "outputs": [
        {
          "output_type": "execute_result",
          "data": {
            "application/vnd.google.colaboratory.intrinsic+json": {
              "type": "string"
            },
            "text/plain": [
              "'подружка скинула песни алены швец теперь лежу слушаю всё'"
            ]
          },
          "metadata": {
            "tags": []
          },
          "execution_count": 5
        }
      ]
    },
    {
      "cell_type": "code",
      "metadata": {
        "colab": {
          "base_uri": "https://localhost:8080/"
        },
        "id": "m_W3vUF-R0m1",
        "outputId": "508a04fb-b13b-4076-c125-5681401db9f8"
      },
      "source": [
        "len(data.index)"
      ],
      "execution_count": 6,
      "outputs": [
        {
          "output_type": "execute_result",
          "data": {
            "text/plain": [
              "702804"
            ]
          },
          "metadata": {
            "tags": []
          },
          "execution_count": 6
        }
      ]
    },
    {
      "cell_type": "code",
      "metadata": {
        "id": "7p-EuF58t2WZ"
      },
      "source": [
        "data2 = []\n",
        "for i in range(0, len(data.index)):\n",
        "\n",
        "    # Punctuation removal\n",
        "    table = str.maketrans(dict.fromkeys(string.punctuation))     \n",
        "    twit = str(data.tweet[i])              \n",
        "    print(type(twit))\n",
        "    sentences = (twit.translate(table))\n",
        "\n",
        "    # \" '\\n \" removal\n",
        "    words = sentences[:-3] \n",
        "\n",
        "    # Tokenization\n",
        "    words = nltk.word_tokenize(words)\n",
        "\n",
        "    # shrt words removal & lemmatization & stemming\n",
        "    words_ = []\n",
        "    for word in words:\n",
        "        if len(word) > 2:   \n",
        "            if not word.isnumeric():                                                  \n",
        "                word1 = stemmer.stem(WordNetLemmatizer().lemmatize(word, pos='v'))          \n",
        "                words_.append(word1)\n",
        "    data2.append(words_)\n",
        "\n",
        "# df = pd.DataFrame({'comment':data2, 'toxic':data['toxic']})   "
      ],
      "execution_count": null,
      "outputs": []
    },
    {
      "cell_type": "code",
      "metadata": {
        "colab": {
          "base_uri": "https://localhost:8080/",
          "height": 202
        },
        "id": "gcFdx6lGNVLE",
        "outputId": "79387dd1-331c-4e4b-c2dd-9e3d86e077b2"
      },
      "source": [
        "comparison = pd.DataFrame({'comments': data['tweet'], 'preprocessed comments': data2})\n",
        "comparison.head()"
      ],
      "execution_count": null,
      "outputs": [
        {
          "output_type": "execute_result",
          "data": {
            "text/html": [
              "<div>\n",
              "<style scoped>\n",
              "    .dataframe tbody tr th:only-of-type {\n",
              "        vertical-align: middle;\n",
              "    }\n",
              "\n",
              "    .dataframe tbody tr th {\n",
              "        vertical-align: top;\n",
              "    }\n",
              "\n",
              "    .dataframe thead th {\n",
              "        text-align: right;\n",
              "    }\n",
              "</style>\n",
              "<table border=\"1\" class=\"dataframe\">\n",
              "  <thead>\n",
              "    <tr style=\"text-align: right;\">\n",
              "      <th></th>\n",
              "      <th>comments</th>\n",
              "      <th>preprocessed comments</th>\n",
              "    </tr>\n",
              "  </thead>\n",
              "  <tbody>\n",
              "    <tr>\n",
              "      <th>0</th>\n",
              "      <td>подружка скинула песни алены швец теперь лежу ...</td>\n",
              "      <td>[подружк, скинул, песн, ал, швец, тепер, леж, ...</td>\n",
              "    </tr>\n",
              "    <tr>\n",
              "      <th>1</th>\n",
              "      <td>Лол ивент рашки окончен. Из сотки сундуков мне...</td>\n",
              "      <td>[лол, ивент, рашк, оконч, сотк, сундук, мне, в...</td>\n",
              "    </tr>\n",
              "    <tr>\n",
              "      <th>2</th>\n",
              "      <td>Юи солнышко</td>\n",
              "      <td>[солныш]</td>\n",
              "    </tr>\n",
              "    <tr>\n",
              "      <th>3</th>\n",
              "      <td>Дайте поспааать</td>\n",
              "      <td>[дайт, поспа]</td>\n",
              "    </tr>\n",
              "    <tr>\n",
              "      <th>4</th>\n",
              "      <td>хочу ему написать..</td>\n",
              "      <td>[хоч, ем, напис]</td>\n",
              "    </tr>\n",
              "  </tbody>\n",
              "</table>\n",
              "</div>"
            ],
            "text/plain": [
              "                                            comments                              preprocessed comments\n",
              "0  подружка скинула песни алены швец теперь лежу ...  [подружк, скинул, песн, ал, швец, тепер, леж, ...\n",
              "1  Лол ивент рашки окончен. Из сотки сундуков мне...  [лол, ивент, рашк, оконч, сотк, сундук, мне, в...\n",
              "2                                       Юи солнышко                                            [солныш]\n",
              "3                                    Дайте поспааать                                      [дайт, поспа]\n",
              "4                                хочу ему написать..                                   [хоч, ем, напис]"
            ]
          },
          "metadata": {
            "tags": []
          },
          "execution_count": 23
        }
      ]
    },
    {
      "cell_type": "code",
      "metadata": {
        "id": "Td5vB6nE07l_"
      },
      "source": [
        "comparison.to_csv('/content/drive/My Drive/Corpus_project/basic_cleaning_tweets_lem.csv', sep=',', na_rep='', float_format=None, columns=None, header=True, index=True, index_label=None)"
      ],
      "execution_count": null,
      "outputs": []
    },
    {
      "cell_type": "code",
      "metadata": {
        "id": "doLZeq3QkQoM"
      },
      "source": [
        "comparison = pd.read_csv('/content/drive/My Drive/Corpus_project/basic_cleaning_tweets_lem.csv')\n"
      ],
      "execution_count": 6,
      "outputs": []
    },
    {
      "cell_type": "code",
      "metadata": {
        "id": "c3e0v_sxNV3-"
      },
      "source": [
        "cvect = CountVectorizer(ngram_range=(1, 1), lowercase='true')   \n",
        "tfidf_transformer = TfidfTransformer(norm= 'l2', use_idf= True)"
      ],
      "execution_count": 7,
      "outputs": []
    },
    {
      "cell_type": "code",
      "metadata": {
        "id": "h8fHhm94NcYG"
      },
      "source": [
        "data3 = comparison['comments'].astype(str).values.tolist()\n",
        "\n",
        "data1_ = cvect.fit_transform(data3)\n",
        "data_ = tfidf_transformer.fit_transform(data1_)"
      ],
      "execution_count": 9,
      "outputs": []
    },
    {
      "cell_type": "code",
      "metadata": {
        "id": "T7EHRks4MH-h"
      },
      "source": [
        "kmeans = KMeans(n_clusters=2, init='k-means++', random_state=0).fit(data_)"
      ],
      "execution_count": null,
      "outputs": []
    },
    {
      "cell_type": "code",
      "metadata": {
        "id": "dBKOj_sOt5Ua"
      },
      "source": [
        "kmeans_pred = []\n",
        "for label in kmeans.predict(data_):\n",
        "    if label == 0:\n",
        "      \n",
        "        kmeans_pred.append(1)\n",
        "    else:\n",
        "        kmeans_pred.append(0)\n"
      ],
      "execution_count": null,
      "outputs": []
    },
    {
      "cell_type": "code",
      "metadata": {
        "id": "L39w6mYKZ-Dy"
      },
      "source": [
        "with open('/content/drive/My Drive/Corpus_project/preds.txt' , 'w', encoding='utf-8') as dst:\n",
        "  print(kmeans_pred, file=dst)"
      ],
      "execution_count": 35,
      "outputs": []
    },
    {
      "cell_type": "code",
      "metadata": {
        "id": "SbBJNI0N5l8q"
      },
      "source": [
        "preds_table = pd.DataFrame({'comments': data['tweet'], 'preprocessed comments': data2, 'preds':kmeans_pred})"
      ],
      "execution_count": null,
      "outputs": []
    },
    {
      "cell_type": "code",
      "metadata": {
        "id": "fEZOj2b4k8QM"
      },
      "source": [
        "preds_table.to_csv('/content/drive/My Drive/Corpus_project/preds_table.csv', sep=',', na_rep='', float_format=None, columns=None, header=True, index=True, index_label=None)"
      ],
      "execution_count": 37,
      "outputs": []
    },
    {
      "cell_type": "code",
      "metadata": {
        "colab": {
          "base_uri": "https://localhost:8080/",
          "height": 416
        },
        "id": "qn3-Ar_jlm0A",
        "outputId": "37af525a-ff18-4f23-9603-90e05692e89f"
      },
      "source": [
        "df = preds_table.sample(n=100)\n",
        "df "
      ],
      "execution_count": 39,
      "outputs": [
        {
          "output_type": "execute_result",
          "data": {
            "text/html": [
              "<div>\n",
              "<style scoped>\n",
              "    .dataframe tbody tr th:only-of-type {\n",
              "        vertical-align: middle;\n",
              "    }\n",
              "\n",
              "    .dataframe tbody tr th {\n",
              "        vertical-align: top;\n",
              "    }\n",
              "\n",
              "    .dataframe thead th {\n",
              "        text-align: right;\n",
              "    }\n",
              "</style>\n",
              "<table border=\"1\" class=\"dataframe\">\n",
              "  <thead>\n",
              "    <tr style=\"text-align: right;\">\n",
              "      <th></th>\n",
              "      <th>comments</th>\n",
              "      <th>preprocessed comments</th>\n",
              "      <th>preds</th>\n",
              "    </tr>\n",
              "  </thead>\n",
              "  <tbody>\n",
              "    <tr>\n",
              "      <th>149206</th>\n",
              "      <td>Мои сторис смотрит мой препод из универа. Инте...</td>\n",
              "      <td>[мо, сторис, смотр, мо, препод, универ, интере...</td>\n",
              "      <td>1</td>\n",
              "    </tr>\n",
              "    <tr>\n",
              "      <th>501205</th>\n",
              "      <td>решительно настроена встречать новый год в пиж...</td>\n",
              "      <td>[решительн, настро, встреча, нов, год, пижам, ...</td>\n",
              "      <td>1</td>\n",
              "    </tr>\n",
              "    <tr>\n",
              "      <th>664966</th>\n",
              "      <td>Честь — это мужественная стыдливость.</td>\n",
              "      <td>[чест, эт, мужествен, стыдлив]</td>\n",
              "      <td>1</td>\n",
              "    </tr>\n",
              "    <tr>\n",
              "      <th>524176</th>\n",
              "      <td>Тред для тредов, чтоб ничего не потерять</td>\n",
              "      <td>[тред, для, тред, чтоб, нич, потер]</td>\n",
              "      <td>0</td>\n",
              "    </tr>\n",
              "    <tr>\n",
              "      <th>328829</th>\n",
              "      <td>я так счастлива что смогла стать возможно для ...</td>\n",
              "      <td>[так, счастлив, что, смогл, стат, возможн, для...</td>\n",
              "      <td>0</td>\n",
              "    </tr>\n",
              "    <tr>\n",
              "      <th>...</th>\n",
              "      <td>...</td>\n",
              "      <td>...</td>\n",
              "      <td>...</td>\n",
              "    </tr>\n",
              "    <tr>\n",
              "      <th>25540</th>\n",
              "      <td>Нашла совпадение в наличии вытамина Д в яичных...</td>\n",
              "      <td>[нашл, совпаден, налич, вытамин, яичн, желтк, ...</td>\n",
              "      <td>0</td>\n",
              "    </tr>\n",
              "    <tr>\n",
              "      <th>3521</th>\n",
              "      <td>Почему так мало часов в суткааааааах??????????...</td>\n",
              "      <td>[поч, так, мал, час, суткаааа]</td>\n",
              "      <td>1</td>\n",
              "    </tr>\n",
              "    <tr>\n",
              "      <th>257397</th>\n",
              "      <td>всех с новым годом</td>\n",
              "      <td>[всех, нов]</td>\n",
              "      <td>1</td>\n",
              "    </tr>\n",
              "    <tr>\n",
              "      <th>459572</th>\n",
              "      <td>Это так ужасно Когда ты пишешь сообщение челов...</td>\n",
              "      <td>[эт, так, ужасн, когд, пишеш, сообщен, человек...</td>\n",
              "      <td>0</td>\n",
              "    </tr>\n",
              "    <tr>\n",
              "      <th>366911</th>\n",
              "      <td>Я в таком говно настроении Хочется просто нажр...</td>\n",
              "      <td>[так, говн, настроен, хочет, прост, нажрат]</td>\n",
              "      <td>1</td>\n",
              "    </tr>\n",
              "  </tbody>\n",
              "</table>\n",
              "<p>100 rows × 3 columns</p>\n",
              "</div>"
            ],
            "text/plain": [
              "                                                 comments  ... preds\n",
              "149206  Мои сторис смотрит мой препод из универа. Инте...  ...     1\n",
              "501205  решительно настроена встречать новый год в пиж...  ...     1\n",
              "664966              Честь — это мужественная стыдливость.  ...     1\n",
              "524176          Тред для тредов, чтоб ничего не потерять   ...     0\n",
              "328829  я так счастлива что смогла стать возможно для ...  ...     0\n",
              "...                                                   ...  ...   ...\n",
              "25540   Нашла совпадение в наличии вытамина Д в яичных...  ...     0\n",
              "3521    Почему так мало часов в суткааааааах??????????...  ...     1\n",
              "257397                                 всех с новым годом  ...     1\n",
              "459572  Это так ужасно Когда ты пишешь сообщение челов...  ...     0\n",
              "366911  Я в таком говно настроении Хочется просто нажр...  ...     1\n",
              "\n",
              "[100 rows x 3 columns]"
            ]
          },
          "metadata": {
            "tags": []
          },
          "execution_count": 39
        }
      ]
    },
    {
      "cell_type": "code",
      "metadata": {
        "id": "TBvyW2jotyko"
      },
      "source": [
        "# df1['toxic'] = df['toxic']\n",
        "df.to_csv('/content/drive/My Drive/Corpus_project/preds_table_random.csv', sep=',', na_rep='', float_format=None, columns=None, header=True, index=True, index_label=None)"
      ],
      "execution_count": null,
      "outputs": []
    },
    {
      "cell_type": "code",
      "metadata": {
        "colab": {
          "base_uri": "https://localhost:8080/",
          "height": 416
        },
        "id": "MaPin2vgoRMO",
        "outputId": "794f14ce-359c-467a-d6d9-6b5254e1d949"
      },
      "source": [
        "df = pd.read_csv('/content/drive/My Drive/Corpus_project/preds_table_rando.csv', sep=',')\n",
        "df"
      ],
      "execution_count": 5,
      "outputs": [
        {
          "output_type": "execute_result",
          "data": {
            "text/html": [
              "<div>\n",
              "<style scoped>\n",
              "    .dataframe tbody tr th:only-of-type {\n",
              "        vertical-align: middle;\n",
              "    }\n",
              "\n",
              "    .dataframe tbody tr th {\n",
              "        vertical-align: top;\n",
              "    }\n",
              "\n",
              "    .dataframe thead th {\n",
              "        text-align: right;\n",
              "    }\n",
              "</style>\n",
              "<table border=\"1\" class=\"dataframe\">\n",
              "  <thead>\n",
              "    <tr style=\"text-align: right;\">\n",
              "      <th></th>\n",
              "      <th>Unnamed: 0</th>\n",
              "      <th>comments</th>\n",
              "      <th>preprocessed comments</th>\n",
              "      <th>preds</th>\n",
              "      <th>toxic</th>\n",
              "    </tr>\n",
              "  </thead>\n",
              "  <tbody>\n",
              "    <tr>\n",
              "      <th>0</th>\n",
              "      <td>149206</td>\n",
              "      <td>Мои сторис смотрит мой препод из универа. Инте...</td>\n",
              "      <td>['мо', 'сторис', 'смотр', 'мо', 'препод', 'уни...</td>\n",
              "      <td>1</td>\n",
              "      <td>1</td>\n",
              "    </tr>\n",
              "    <tr>\n",
              "      <th>1</th>\n",
              "      <td>501205</td>\n",
              "      <td>решительно настроена встречать новый год в пиж...</td>\n",
              "      <td>['решительн', 'настро', 'встреча', 'нов', 'год...</td>\n",
              "      <td>1</td>\n",
              "      <td>0</td>\n",
              "    </tr>\n",
              "    <tr>\n",
              "      <th>2</th>\n",
              "      <td>664966</td>\n",
              "      <td>Честь — это мужественная стыдливость.</td>\n",
              "      <td>['чест', 'эт', 'мужествен', 'стыдлив']</td>\n",
              "      <td>1</td>\n",
              "      <td>0</td>\n",
              "    </tr>\n",
              "    <tr>\n",
              "      <th>3</th>\n",
              "      <td>524176</td>\n",
              "      <td>Тред для тредов, чтоб ничего не потерять</td>\n",
              "      <td>['тред', 'для', 'тред', 'чтоб', 'нич', 'потер']</td>\n",
              "      <td>0</td>\n",
              "      <td>0</td>\n",
              "    </tr>\n",
              "    <tr>\n",
              "      <th>4</th>\n",
              "      <td>328829</td>\n",
              "      <td>я так счастлива что смогла стать возможно для ...</td>\n",
              "      <td>['так', 'счастлив', 'что', 'смогл', 'стат', 'в...</td>\n",
              "      <td>0</td>\n",
              "      <td>0</td>\n",
              "    </tr>\n",
              "    <tr>\n",
              "      <th>...</th>\n",
              "      <td>...</td>\n",
              "      <td>...</td>\n",
              "      <td>...</td>\n",
              "      <td>...</td>\n",
              "      <td>...</td>\n",
              "    </tr>\n",
              "    <tr>\n",
              "      <th>95</th>\n",
              "      <td>25540</td>\n",
              "      <td>Нашла совпадение в наличии вытамина Д в яичных...</td>\n",
              "      <td>['нашл', 'совпаден', 'налич', 'вытамин', 'яичн...</td>\n",
              "      <td>0</td>\n",
              "      <td>0</td>\n",
              "    </tr>\n",
              "    <tr>\n",
              "      <th>96</th>\n",
              "      <td>3521</td>\n",
              "      <td>Почему так мало часов в суткааааааах??????????...</td>\n",
              "      <td>['поч', 'так', 'мал', 'час', 'суткаааа']</td>\n",
              "      <td>1</td>\n",
              "      <td>0</td>\n",
              "    </tr>\n",
              "    <tr>\n",
              "      <th>97</th>\n",
              "      <td>257397</td>\n",
              "      <td>всех с новым годом</td>\n",
              "      <td>['всех', 'нов']</td>\n",
              "      <td>1</td>\n",
              "      <td>0</td>\n",
              "    </tr>\n",
              "    <tr>\n",
              "      <th>98</th>\n",
              "      <td>459572</td>\n",
              "      <td>Это так ужасно Когда ты пишешь сообщение челов...</td>\n",
              "      <td>['эт', 'так', 'ужасн', 'когд', 'пишеш', 'сообщ...</td>\n",
              "      <td>0</td>\n",
              "      <td>0</td>\n",
              "    </tr>\n",
              "    <tr>\n",
              "      <th>99</th>\n",
              "      <td>366911</td>\n",
              "      <td>Я в таком говно настроении Хочется просто нажр...</td>\n",
              "      <td>['так', 'говн', 'настроен', 'хочет', 'прост', ...</td>\n",
              "      <td>1</td>\n",
              "      <td>1</td>\n",
              "    </tr>\n",
              "  </tbody>\n",
              "</table>\n",
              "<p>100 rows × 5 columns</p>\n",
              "</div>"
            ],
            "text/plain": [
              "    Unnamed: 0                                           comments  ... preds  toxic\n",
              "0       149206  Мои сторис смотрит мой препод из универа. Инте...  ...     1      1\n",
              "1       501205  решительно настроена встречать новый год в пиж...  ...     1      0\n",
              "2       664966              Честь — это мужественная стыдливость.  ...     1      0\n",
              "3       524176          Тред для тредов, чтоб ничего не потерять   ...     0      0\n",
              "4       328829  я так счастлива что смогла стать возможно для ...  ...     0      0\n",
              "..         ...                                                ...  ...   ...    ...\n",
              "95       25540  Нашла совпадение в наличии вытамина Д в яичных...  ...     0      0\n",
              "96        3521  Почему так мало часов в суткааааааах??????????...  ...     1      0\n",
              "97      257397                                 всех с новым годом  ...     1      0\n",
              "98      459572  Это так ужасно Когда ты пишешь сообщение челов...  ...     0      0\n",
              "99      366911  Я в таком говно настроении Хочется просто нажр...  ...     1      1\n",
              "\n",
              "[100 rows x 5 columns]"
            ]
          },
          "metadata": {
            "tags": []
          },
          "execution_count": 5
        }
      ]
    },
    {
      "cell_type": "code",
      "metadata": {
        "id": "34GznW6MMOyi",
        "colab": {
          "base_uri": "https://localhost:8080/"
        },
        "outputId": "af26927c-3e60-4537-9ad4-757d85b3444c"
      },
      "source": [
        "fowlkes_mallows_score(df['preds'], df['toxic']) "
      ],
      "execution_count": 6,
      "outputs": [
        {
          "output_type": "execute_result",
          "data": {
            "text/plain": [
              "0.5514251321475692"
            ]
          },
          "metadata": {
            "tags": []
          },
          "execution_count": 6
        }
      ]
    },
    {
      "cell_type": "code",
      "metadata": {
        "id": "jDcsrAQ1MPdA"
      },
      "source": [
        "def accuracy_score_(labels__, labels___):\n",
        "    score = 0\n",
        "    for idx, label in enumerate(labels__):\n",
        "        if label == labels___[idx]:\n",
        "            score = score + 1\n",
        "\n",
        "    return score/len(labels___)"
      ],
      "execution_count": 7,
      "outputs": []
    },
    {
      "cell_type": "code",
      "metadata": {
        "id": "u_vbFA3pMTjd",
        "colab": {
          "base_uri": "https://localhost:8080/"
        },
        "outputId": "2dab91c0-51fb-4f13-d442-7d7f42bd4e3f"
      },
      "source": [
        "accuracy_score_(df['preds'], df['toxic'])"
      ],
      "execution_count": 8,
      "outputs": [
        {
          "output_type": "execute_result",
          "data": {
            "text/plain": [
              "0.59"
            ]
          },
          "metadata": {
            "tags": []
          },
          "execution_count": 8
        }
      ]
    },
    {
      "cell_type": "code",
      "metadata": {
        "id": "Pn-QlaUoMZv-",
        "colab": {
          "base_uri": "https://localhost:8080/"
        },
        "outputId": "3cf42ab1-dd6e-4537-d44d-250fe29052c1"
      },
      "source": [
        "print(classification_report(df['toxic'], df['preds']))"
      ],
      "execution_count": 9,
      "outputs": [
        {
          "output_type": "stream",
          "text": [
            "              precision    recall  f1-score   support\n",
            "\n",
            "           0       0.80      0.41      0.54        59\n",
            "           1       0.50      0.85      0.63        41\n",
            "\n",
            "    accuracy                           0.59       100\n",
            "   macro avg       0.65      0.63      0.58       100\n",
            "weighted avg       0.68      0.59      0.58       100\n",
            "\n"
          ],
          "name": "stdout"
        }
      ]
    },
    {
      "cell_type": "code",
      "metadata": {
        "id": "wsrDfZDNMaVl",
        "colab": {
          "base_uri": "https://localhost:8080/"
        },
        "outputId": "7f61ed16-f13f-48b5-f2f6-9a48dc1b7163"
      },
      "source": [
        "confusion_matrix(df['toxic'], df['preds'])"
      ],
      "execution_count": 10,
      "outputs": [
        {
          "output_type": "execute_result",
          "data": {
            "text/plain": [
              "array([[24, 35],\n",
              "       [ 6, 35]])"
            ]
          },
          "metadata": {
            "tags": []
          },
          "execution_count": 10
        }
      ]
    },
    {
      "cell_type": "markdown",
      "metadata": {
        "id": "tLA6zHPqntfs"
      },
      "source": [
        "из странного: токсичным классифицируется новый год и якутский"
      ]
    }
  ]
}