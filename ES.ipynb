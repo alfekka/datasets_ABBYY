{
 "cells": [
  {
   "cell_type": "code",
   "execution_count": null,
   "metadata": {
    "colab": {
     "base_uri": "https://localhost:8080/"
    },
    "id": "A7eWVu0Tx3ll",
    "outputId": "fb1c38e4-ca05-4d5c-d2ee-af303c385805"
   },
   "outputs": [],
   "source": [
    "!pip install elasticsearch"
   ]
  },
  {
   "cell_type": "code",
   "execution_count": null,
   "metadata": {
    "colab": {
     "base_uri": "https://localhost:8080/",
     "height": 356
    },
    "id": "PAsTVNc5sTr7",
    "outputId": "a875bf26-84ff-47ce-98be-df3bf085bd8a"
   },
   "outputs": [],
   "source": [
    "from pydrive.auth import GoogleAuth\n",
    "from pydrive.drive import GoogleDrive\n",
    "from google.colab import auth\n",
    "from oauth2client.client import GoogleCredentials\n",
    "import numpy as np\n",
    "import re\n",
    "import os\n",
    "import pandas as pd\n",
    "import csv\n",
    "import json\n",
    "from typing import List\n",
    "from elasticsearch import Elasticsearch\n",
    "from pprint import pprint\n"
   ]
  },
  {
   "cell_type": "code",
   "execution_count": null,
   "metadata": {
    "colab": {
     "base_uri": "https://localhost:8080/"
    },
    "id": "uMXFQfJbsUgG",
    "outputId": "3764972b-97b7-44e0-ae59-4dedb2a719c6"
   },
   "outputs": [],
   "source": [
    "from google.colab import drive\n",
    "drive.mount('/content/drive')"
   ]
  },
  {
   "cell_type": "code",
   "execution_count": null,
   "metadata": {
    "colab": {
     "base_uri": "https://localhost:8080/",
     "height": 470
    },
    "id": "HNSe9KBIs_x9",
    "outputId": "5914eab3-2ff9-4d12-a3d3-4550be31df38"
   },
   "outputs": [],
   "source": [
    " sentence = pd.read_csv (r'/content/drive/My Drive/Corpus_project/basic_cleaning_tweets.csv')\n",
    " sentence = sentence.rename(columns={'Unnamed: 0': 'number'})\n",
    " sentence"
   ]
  },
  {
   "cell_type": "markdown",
   "metadata": {
    "id": "fo8nmLmK9Re-"
   },
   "source": [
    "## Перегон в JSON"
   ]
  },
  {
   "cell_type": "code",
   "execution_count": null,
   "metadata": {
    "id": "a131-6aarxnu"
   },
   "outputs": [],
   "source": [
    "csvfile = open('/content/drive/My Drive/Corpus_project/basic_cleaning_tweets.csv', 'r')\n",
    "jsonfile = open('/content/drive/My Drive/Corpus_project/basic_cleaning_tweets.json', 'w')\n",
    "\n",
    "fieldnames = (\"\tUnnamed: 0\t\",\"id\",\"date\",\"tweet\")\n",
    "reader = csv.DictReader( csvfile, fieldnames)\n",
    "for row in reader:\n",
    "    json.dump(row, jsonfile)\n",
    "    jsonfile.write('\\n')"
   ]
  },
  {
   "cell_type": "markdown",
   "metadata": {
    "id": "808a-TJw9Z47"
   },
   "source": [
    "## Настройка ES"
   ]
  },
  {
   "cell_type": "code",
   "execution_count": null,
   "metadata": {
    "colab": {
     "base_uri": "https://localhost:8080/",
     "height": 605
    },
    "id": "ME1dwALStixi",
    "outputId": "98666e44-5dc2-4898-96a4-104f03af6f79"
   },
   "outputs": [],
   "source": [
    "import requests\n",
    "res = requests.get('http://localhost:9200')\n",
    "print(res.content)"
   ]
  },
  {
   "cell_type": "code",
   "execution_count": null,
   "metadata": {
    "id": "s59PcsRCyBGS"
   },
   "outputs": [],
   "source": [
    "from elasticsearch import Elasticsearch\n",
    "es = Elasticsearch([{'host': 'localhost', 'port': 9200}])"
   ]
  },
  {
   "cell_type": "code",
   "execution_count": null,
   "metadata": {
    "colab": {
     "base_uri": "https://localhost:8080/",
     "height": 536
    },
    "id": "cnejv0SMyJFV",
    "outputId": "0a877b18-8767-4dd9-a4de-ad622459a6c4"
   },
   "outputs": [],
   "source": [
    "es.index(index='test-index', doc_type='test', id=1, body={'test': 'test'})"
   ]
  },
  {
   "cell_type": "code",
   "execution_count": null,
   "metadata": {
    "colab": {
     "base_uri": "https://localhost:8080/",
     "height": 536
    },
    "id": "EP4lwYs50NGc",
    "outputId": "bd94300d-e434-451f-f6ea-0350ec17c60e"
   },
   "outputs": [],
   "source": [
    "\n",
    "#delete test data and try with something more interesting\n",
    "es.delete(index='test-index', doc_type='test', id=1)"
   ]
  },
  {
   "cell_type": "markdown",
   "metadata": {
    "id": "wibbjCMl9grg"
   },
   "source": [
    "## Generator from df\n",
    "\n",
    "```\n",
    "# Выбран кодовый формат\n",
    "```\n",
    "\n"
   ]
  },
  {
   "cell_type": "code",
   "execution_count": null,
   "metadata": {
    "id": "VMhaVzL3Ad6D"
   },
   "outputs": [],
   "source": [
    "from elasticsearch import Elasticsearch\n",
    "from elasticsearch import helpers\n",
    "es_client = Elasticsearch(http_compress=True)\n"
   ]
  },
  {
   "cell_type": "code",
   "execution_count": null,
   "metadata": {
    "id": "zINzgHVnACdd"
   },
   "outputs": [],
   "source": [
    "sentence_iter = sentence.iterrows()\n",
    "index, document = next(sentence_iter)"
   ]
  },
  {
   "cell_type": "code",
   "execution_count": null,
   "metadata": {
    "id": "rHqEomwvAQX-"
   },
   "outputs": [],
   "source": [
    "use_these_keys = ['number', 'id', 'date', 'tweet']\n",
    "def filterKeys(document):\n",
    "    return {key: document[key] for key in use_these_keys }"
   ]
  },
  {
   "cell_type": "code",
   "execution_count": null,
   "metadata": {
    "colab": {
     "base_uri": "https://localhost:8080/",
     "height": 588
    },
    "id": "1tFlNwYoAlAB",
    "outputId": "19393388-c628-46b3-86b7-6a5deee1ba8a"
   },
   "outputs": [],
   "source": [
    "def doc_generator(df):\n",
    "    df_iter = df.iterrows()\n",
    "    for index, document in df_iter:\n",
    "        yield {\n",
    "                \"_index\": 'toxic_tweets',\n",
    "                \"_type\": \"_doc\",\n",
    "                \"_id\" : f\"{document['number']}\",\n",
    "                \"_content\": f{document['tweet']}\n",
    "                \"_date\": f{document['date']}\n",
    "                \"_source\": filterKeys(document),\n",
    "            }\n",
    "    raise StopIteration\n",
    "helpers.bulk(es_client, doc_generator(sentence))"
   ]
  },
  {
   "cell_type": "markdown",
   "metadata": {
    "id": "7XJ1FU8FEchw"
   },
   "source": [
    "## Search"
   ]
  },
  {
   "cell_type": "code",
   "execution_count": null,
   "metadata": {
    "id": "EnoZHYlMEeAz"
   },
   "outputs": [],
   "source": [
    "query = raw_input(\"Search for tweets: \\n\")\n",
    "\n",
    "if __name__ == '__main__':\n",
    "\n",
    "    es = Elasticsearch([{'host': 'localhost', 'port': 9200}])\n",
    "    res = es.search(index=\"searchindex\", doc_type=\"users\", body={\"query\": {\"match\": {\"job\": query}}}, size=20)\n",
    "    print(\"%d documents found:\" % res['hits']['total'])\n",
    "    for doc in res['hits']['hits']:\n",
    "        print(\"%s %s %s\" % (doc['_id'], doc['_source']['tweet'], doc['_source']['date']))"
   ]
  }
 ],
 "metadata": {
  "colab": {
   "name": "ES.ipynb",
   "provenance": []
  },
  "kernelspec": {
   "display_name": "Python 3",
   "language": "python",
   "name": "python3"
  },
  "language_info": {
   "codemirror_mode": {
    "name": "ipython",
    "version": 3
   },
   "file_extension": ".py",
   "mimetype": "text/x-python",
   "name": "python",
   "nbconvert_exporter": "python",
   "pygments_lexer": "ipython3",
   "version": "3.6.9"
  }
 },
 "nbformat": 4,
 "nbformat_minor": 1
}
