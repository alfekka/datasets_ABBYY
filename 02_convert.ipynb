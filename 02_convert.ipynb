{
  "nbformat": 4,
  "nbformat_minor": 0,
  "metadata": {
    "colab": {
      "name": "02_convert.ipynb",
      "provenance": []
    },
    "kernelspec": {
      "name": "python3",
      "display_name": "Python 3"
    },
    "language_info": {
      "name": "python"
    }
  },
  "cells": [
    {
      "cell_type": "markdown",
      "metadata": {
        "id": "f1oa_wFG4Tk7"
      },
      "source": [
        "# Data preparation\n",
        "In this part basic cleaning of tweets is preformed. \n",
        "We assume, that it is essential to detete http links, Emojis, hashtag (without deleting the text of the hashtag) and parts like \"@kotiki\"."
      ]
    },
    {
      "cell_type": "code",
      "metadata": {
        "colab": {
          "base_uri": "https://localhost:8080/"
        },
        "id": "SVlKSkKS-vbT",
        "outputId": "018ad244-249f-4af1-9409-d84e0ce6e3e1"
      },
      "source": [
        "  from google.colab import drive\n",
        "drive.mount('/content/gdrive')"
      ],
      "execution_count": null,
      "outputs": [
        {
          "output_type": "stream",
          "text": [
            "Mounted at /content/gdrive\n"
          ],
          "name": "stdout"
        }
      ]
    },
    {
      "cell_type": "code",
      "metadata": {
        "colab": {
          "base_uri": "https://localhost:8080/"
        },
        "id": "9kKRi1mACOvu",
        "outputId": "cb277da4-5273-4d4d-a207-211384e34330"
      },
      "source": [
        "!pip install emoji --upgrade"
      ],
      "execution_count": null,
      "outputs": [
        {
          "output_type": "stream",
          "text": [
            "Requirement already up-to-date: emoji in /usr/local/lib/python3.7/dist-packages (1.2.0)\n"
          ],
          "name": "stdout"
        }
      ]
    },
    {
      "cell_type": "code",
      "metadata": {
        "id": "mo8GU1r8-yqe"
      },
      "source": [
        "import os\n",
        "import pandas as pd\n",
        "import re\n",
        "import emoji\n",
        "import nltk"
      ],
      "execution_count": null,
      "outputs": []
    },
    {
      "cell_type": "code",
      "metadata": {
        "colab": {
          "base_uri": "https://localhost:8080/"
        },
        "id": "NPmt8ext-1G3",
        "outputId": "23325e32-63e1-4dd1-e041-be82dfb9986c"
      },
      "source": [
        "tweets_full = pd.read_csv('/content/gdrive/My Drive/Corpus_project/place_result.csv')"
      ],
      "execution_count": null,
      "outputs": [
        {
          "output_type": "stream",
          "text": [
            "/usr/local/lib/python3.7/dist-packages/IPython/core/interactiveshell.py:2718: DtypeWarning: Columns (0) have mixed types.Specify dtype option on import or set low_memory=False.\n",
            "  interactivity=interactivity, compiler=compiler, result=result)\n"
          ],
          "name": "stderr"
        }
      ]
    },
    {
      "cell_type": "markdown",
      "metadata": {
        "id": "6noqLhQt5O_0"
      },
      "source": [
        "There were some difficulties with deleting all types of emojis (especially the new ones). We were able to overcome those complications, using emoji library."
      ]
    },
    {
      "cell_type": "code",
      "metadata": {
        "id": "5cNDJXWx_ECO"
      },
      "source": [
        "tweets_raw = tweets_full['tweet']\n",
        "#[18992, 18987, 18976, 18973, 18958, 18921, 18918, 18895, 18854] - examples of sentences with \"interesting\" emojis"
      ],
      "execution_count": null,
      "outputs": []
    },
    {
      "cell_type": "code",
      "metadata": {
        "colab": {
          "base_uri": "https://localhost:8080/",
          "height": 35
        },
        "id": "AuIrOp1f_WF4",
        "outputId": "d13eb491-55e4-406c-fa30-27bc3069bf73"
      },
      "source": [
        "test_tweet = tweets_raw[18972]\n",
        "test_tweet"
      ],
      "execution_count": null,
      "outputs": [
        {
          "output_type": "execute_result",
          "data": {
            "application/vnd.google.colaboratory.intrinsic+json": {
              "type": "string"
            },
            "text/plain": [
              "'спокойной ночи бусинки 💞💞💞'"
            ]
          },
          "metadata": {
            "tags": []
          },
          "execution_count": 62
        }
      ]
    },
    {
      "cell_type": "code",
      "metadata": {
        "colab": {
          "base_uri": "https://localhost:8080/"
        },
        "id": "B0SZNLDm44ae",
        "outputId": "b53d7be2-d1f3-4ce4-df48-f6e6cdf31548"
      },
      "source": [
        "print(emoji.get_emoji_regexp().sub(u'', test_tweet))"
      ],
      "execution_count": null,
      "outputs": [
        {
          "output_type": "stream",
          "text": [
            "спокойной ночи бусинки \n"
          ],
          "name": "stdout"
        }
      ]
    },
    {
      "cell_type": "code",
      "metadata": {
        "id": "TtzKl2W5B_DY"
      },
      "source": [
        "def cleaner(tweet):\n",
        "  tweet = re.sub(\"@[A-Za-z0-9]+\",\"\",tweet) #Remove @ sign\n",
        "  tweet = re.sub(r\"(?:\\@|http?\\://|https?\\://|www)\\S+\", \"\", tweet) #Remove http links\n",
        "  tweet = \" \".join(tweet.split())\n",
        "  tweet = emoji.get_emoji_regexp().sub(u'', tweet) #Remove Emojis\n",
        "  tweet = tweet.replace(\"#\", \"\").replace(\"_\", \" \") #Remove hashtag sign but keep the text\n",
        "  return tweet"
      ],
      "execution_count": null,
      "outputs": []
    },
    {
      "cell_type": "code",
      "metadata": {
        "id": "UgyEJZ97B_Au"
      },
      "source": [
        "tweets_full['tweet'] = tweets_full['tweet'].map(lambda x: cleaner(x))\n",
        "tweets_full.to_csv('/content/gdrive/My Drive/Corpus_project/basic_cleaning_tweets.csv') "
      ],
      "execution_count": null,
      "outputs": []
    },
    {
      "cell_type": "code",
      "metadata": {
        "colab": {
          "base_uri": "https://localhost:8080/",
          "height": 411
        },
        "id": "rGROvItUB-9X",
        "outputId": "ee5e9587-63b0-4372-9422-e741ca0beb22"
      },
      "source": [
        "tweets_full"
      ],
      "execution_count": null,
      "outputs": [
        {
          "output_type": "execute_result",
          "data": {
            "text/html": [
              "<div>\n",
              "<style scoped>\n",
              "    .dataframe tbody tr th:only-of-type {\n",
              "        vertical-align: middle;\n",
              "    }\n",
              "\n",
              "    .dataframe tbody tr th {\n",
              "        vertical-align: top;\n",
              "    }\n",
              "\n",
              "    .dataframe thead th {\n",
              "        text-align: right;\n",
              "    }\n",
              "</style>\n",
              "<table border=\"1\" class=\"dataframe\">\n",
              "  <thead>\n",
              "    <tr style=\"text-align: right;\">\n",
              "      <th></th>\n",
              "      <th>id</th>\n",
              "      <th>date</th>\n",
              "      <th>tweet</th>\n",
              "    </tr>\n",
              "  </thead>\n",
              "  <tbody>\n",
              "    <tr>\n",
              "      <th>0</th>\n",
              "      <td>1323414585366450176</td>\n",
              "      <td>2020-11-02 23:59:59+00:00</td>\n",
              "      <td>подружка скинула песни алены швец теперь лежу ...</td>\n",
              "    </tr>\n",
              "    <tr>\n",
              "      <th>1</th>\n",
              "      <td>1323414583663579141</td>\n",
              "      <td>2020-11-02 23:59:59+00:00</td>\n",
              "      <td>Лол ивент рашки окончен. Из сотки сундуков мне...</td>\n",
              "    </tr>\n",
              "    <tr>\n",
              "      <th>2</th>\n",
              "      <td>1323414582162034695</td>\n",
              "      <td>2020-11-02 23:59:58+00:00</td>\n",
              "      <td>Юи солнышко</td>\n",
              "    </tr>\n",
              "    <tr>\n",
              "      <th>3</th>\n",
              "      <td>1323414578055794691</td>\n",
              "      <td>2020-11-02 23:59:57+00:00</td>\n",
              "      <td>Дайте поспааать</td>\n",
              "    </tr>\n",
              "    <tr>\n",
              "      <th>4</th>\n",
              "      <td>1323414572162830339</td>\n",
              "      <td>2020-11-02 23:59:56+00:00</td>\n",
              "      <td>хочу ему написать..</td>\n",
              "    </tr>\n",
              "    <tr>\n",
              "      <th>...</th>\n",
              "      <td>...</td>\n",
              "      <td>...</td>\n",
              "      <td>...</td>\n",
              "    </tr>\n",
              "    <tr>\n",
              "      <th>702799</th>\n",
              "      <td>1211021163725512704</td>\n",
              "      <td>2019-12-28 20:28:39+00:00</td>\n",
              "      <td>РоссияКанада 6:0 ! Молодцы ! Завтра матч с аме...</td>\n",
              "    </tr>\n",
              "    <tr>\n",
              "      <th>702800</th>\n",
              "      <td>1211021160290365441</td>\n",
              "      <td>2019-12-28 20:28:38+00:00</td>\n",
              "      <td>Так это...а можно надергать из толпы противник...</td>\n",
              "    </tr>\n",
              "    <tr>\n",
              "      <th>702801</th>\n",
              "      <td>1211021151385923584</td>\n",
              "      <td>2019-12-28 20:28:36+00:00</td>\n",
              "      <td>молодцы наши, но главные матчи еще впереди)</td>\n",
              "    </tr>\n",
              "    <tr>\n",
              "      <th>702802</th>\n",
              "      <td>1211021149754277889</td>\n",
              "      <td>2019-12-28 20:28:36+00:00</td>\n",
              "      <td>Что то я не нашла дюти фри...</td>\n",
              "    </tr>\n",
              "    <tr>\n",
              "      <th>702803</th>\n",
              "      <td>1211021148584075272</td>\n",
              "      <td>2019-12-28 20:28:36+00:00</td>\n",
              "      <td>я нашла какую-то проклятую флешку с комаэдой</td>\n",
              "    </tr>\n",
              "  </tbody>\n",
              "</table>\n",
              "<p>702804 rows × 3 columns</p>\n",
              "</div>"
            ],
            "text/plain": [
              "                         id  ...                                              tweet\n",
              "0       1323414585366450176  ...  подружка скинула песни алены швец теперь лежу ...\n",
              "1       1323414583663579141  ...  Лол ивент рашки окончен. Из сотки сундуков мне...\n",
              "2       1323414582162034695  ...                                       Юи солнышко \n",
              "3       1323414578055794691  ...                                    Дайте поспааать\n",
              "4       1323414572162830339  ...                                хочу ему написать..\n",
              "...                     ...  ...                                                ...\n",
              "702799  1211021163725512704  ...  РоссияКанада 6:0 ! Молодцы ! Завтра матч с аме...\n",
              "702800  1211021160290365441  ...  Так это...а можно надергать из толпы противник...\n",
              "702801  1211021151385923584  ...        молодцы наши, но главные матчи еще впереди)\n",
              "702802  1211021149754277889  ...                      Что то я не нашла дюти фри...\n",
              "702803  1211021148584075272  ...       я нашла какую-то проклятую флешку с комаэдой\n",
              "\n",
              "[702804 rows x 3 columns]"
            ]
          },
          "metadata": {
            "tags": []
          },
          "execution_count": 67
        }
      ]
    },
    {
      "cell_type": "code",
      "metadata": {
        "id": "2M5JXAbTB-6d"
      },
      "source": [
        ""
      ],
      "execution_count": null,
      "outputs": []
    },
    {
      "cell_type": "code",
      "metadata": {
        "id": "-5LQveE-B-2v"
      },
      "source": [
        ""
      ],
      "execution_count": null,
      "outputs": []
    },
    {
      "cell_type": "code",
      "metadata": {
        "id": "9m2lSz2jAumQ"
      },
      "source": [
        ""
      ],
      "execution_count": null,
      "outputs": []
    }
  ]
}