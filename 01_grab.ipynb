{
  "nbformat": 4,
  "nbformat_minor": 0,
  "metadata": {
    "colab": {
      "name": "01_grab.ipynb",
      "provenance": []
    },
    "kernelspec": {
      "name": "python3",
      "display_name": "Python 3"
    },
    "language_info": {
      "name": "python"
    }
  },
  "cells": [
    {
      "cell_type": "markdown",
      "metadata": {
        "id": "-Y0TyWx61kz8"
      },
      "source": [
        "# Loading the corpus\n",
        "In this part, we present the download of tweets, based on criteria of the language (russian) and 3 time gaps (2020-10-31 -- 2020-11-03; 2021-01-01 -- 2021-02-28; 2019-01-01 -- 2020-01-01). We do that in order to get emotionally diverse tweets, for example, in the last year the pandemic brought some bias into the emotional tweeter's climate, in other hand, it is useful to get some \"fresh data\".\n",
        "\n"
      ]
    },
    {
      "cell_type": "code",
      "metadata": {
        "colab": {
          "base_uri": "https://localhost:8080/"
        },
        "id": "ozXaNeYgu8oo",
        "outputId": "e705cdb8-db88-4a0b-ca5b-765b9b6c52cb"
      },
      "source": [
        "!pip install snscrape"
      ],
      "execution_count": null,
      "outputs": [
        {
          "output_type": "stream",
          "text": [
            "Collecting snscrape\n",
            "  Downloading https://files.pythonhosted.org/packages/81/dd/4a4ec9eedd8cc85ced7c5a6a23853965195203aec825ef3f7778a0c3b69e/snscrape-0.3.4-py3-none-any.whl\n",
            "Requirement already satisfied: requests[socks] in /usr/local/lib/python3.7/dist-packages (from snscrape) (2.23.0)\n",
            "Requirement already satisfied: lxml in /usr/local/lib/python3.7/dist-packages (from snscrape) (4.2.6)\n",
            "Requirement already satisfied: beautifulsoup4 in /usr/local/lib/python3.7/dist-packages (from snscrape) (4.6.3)\n",
            "Requirement already satisfied: certifi>=2017.4.17 in /usr/local/lib/python3.7/dist-packages (from requests[socks]->snscrape) (2020.12.5)\n",
            "Requirement already satisfied: chardet<4,>=3.0.2 in /usr/local/lib/python3.7/dist-packages (from requests[socks]->snscrape) (3.0.4)\n",
            "Requirement already satisfied: idna<3,>=2.5 in /usr/local/lib/python3.7/dist-packages (from requests[socks]->snscrape) (2.10)\n",
            "Requirement already satisfied: urllib3!=1.25.0,!=1.25.1,<1.26,>=1.21.1 in /usr/local/lib/python3.7/dist-packages (from requests[socks]->snscrape) (1.24.3)\n",
            "Requirement already satisfied: PySocks!=1.5.7,>=1.5.6; extra == \"socks\" in /usr/local/lib/python3.7/dist-packages (from requests[socks]->snscrape) (1.7.1)\n",
            "Installing collected packages: snscrape\n",
            "Successfully installed snscrape-0.3.4\n"
          ],
          "name": "stdout"
        }
      ]
    },
    {
      "cell_type": "code",
      "metadata": {
        "id": "bqmtpUbQup4H"
      },
      "source": [
        "import snscrape.modules.twitter as sntwitter\n",
        "import snscrape\n",
        "import os\n",
        "import pandas as pd"
      ],
      "execution_count": null,
      "outputs": []
    },
    {
      "cell_type": "code",
      "metadata": {
        "colab": {
          "base_uri": "https://localhost:8080/"
        },
        "id": "Ki0LVOEMveIT",
        "outputId": "e33363dd-984b-4e72-8c05-2690190e2b63"
      },
      "source": [
        "from google.colab import drive\n",
        "drive.mount('/content/gdrive')"
      ],
      "execution_count": null,
      "outputs": [
        {
          "output_type": "stream",
          "text": [
            "Drive already mounted at /content/gdrive; to attempt to forcibly remount, call drive.mount(\"/content/gdrive\", force_remount=True).\n"
          ],
          "name": "stdout"
        }
      ]
    },
    {
      "cell_type": "code",
      "metadata": {
        "colab": {
          "base_uri": "https://localhost:8080/"
        },
        "id": "XfrORuCHu7Ji",
        "outputId": "6b572b2e-1be5-4596-9b52-c158cfbb871a"
      },
      "source": [
        "import csv\n",
        "maxTweets = 100000\n",
        "\n",
        "#Open/create a file to append data to\n",
        "csvFile = open('/content/gdrive/My Drive/Corpus_project/place_result.csv', 'a', newline='', encoding='utf8')\n",
        "\n",
        "#Use csv writer\n",
        "csvWriter = csv.writer(csvFile)\n",
        "csvWriter.writerow(['id','date','tweet',]) \n",
        "\n",
        "for i,tweet in enumerate(sntwitter.TwitterSearchScraper('lang:ru + since:2020-10-31 until:2020-11-03 -filter:links -filter:replies').get_items()):\n",
        "        if i > maxTweets :\n",
        "            break  \n",
        "        csvWriter.writerow([tweet.id, tweet.date, tweet.content])"
      ],
      "execution_count": null,
      "outputs": [
        {
          "output_type": "stream",
          "text": [
            "Error retrieving https://twitter.com/search?f=live&lang=en&q=lang%3Aru+%2B+since%3A2020-10-31+until%3A2020-11-03+-filter%3Alinks+-filter%3Areplies&src=spelling_expansion_revert_click: ConnectionError(ProtocolError('Connection aborted.', ConnectionResetError(104, 'Connection reset by peer'))), retrying\n",
            "Error retrieving https://twitter.com/search?f=live&lang=en&q=lang%3Aru+%2B+since%3A2020-10-31+until%3A2020-11-03+-filter%3Alinks+-filter%3Areplies&src=spelling_expansion_revert_click: ConnectionError(ProtocolError('Connection aborted.', ConnectionResetError(104, 'Connection reset by peer'))), retrying\n"
          ],
          "name": "stderr"
        }
      ]
    },
    {
      "cell_type": "code",
      "metadata": {
        "colab": {
          "base_uri": "https://localhost:8080/"
        },
        "id": "yyNKB3oQ07mu",
        "outputId": "fa6170a1-4b2a-4916-e0ed-621b54370b80"
      },
      "source": [
        "for i,tweet in enumerate(sntwitter.TwitterSearchScraper('lang:ru + since:2021-01-01 until:2021-02-28 -filter:links -filter:replies').get_items()):\n",
        "        if i > maxTweets :\n",
        "            break  \n",
        "        csvWriter.writerow([tweet.id, tweet.date, tweet.content])"
      ],
      "execution_count": null,
      "outputs": [
        {
          "output_type": "stream",
          "text": [
            "Error retrieving https://twitter.com/search?f=live&lang=en&q=lang%3Aru+%2B+since%3A2021-01-01+until%3A2021-02-28+-filter%3Alinks+-filter%3Areplies&src=spelling_expansion_revert_click: ConnectionError(ProtocolError('Connection aborted.', ConnectionResetError(104, 'Connection reset by peer'))), retrying\n",
            "Error retrieving https://twitter.com/search?f=live&lang=en&q=lang%3Aru+%2B+since%3A2021-01-01+until%3A2021-02-28+-filter%3Alinks+-filter%3Areplies&src=spelling_expansion_revert_click: ConnectionError(ProtocolError('Connection aborted.', ConnectionResetError(104, 'Connection reset by peer'))), retrying\n"
          ],
          "name": "stderr"
        }
      ]
    },
    {
      "cell_type": "code",
      "metadata": {
        "id": "SfEc84wU07jQ"
      },
      "source": [
        "maxTweets = 500000\n",
        "for i,tweet in enumerate(sntwitter.TwitterSearchScraper('lang:ru + since:2019-01-01 until:2020-01-01 -filter:links -filter:replies').get_items()):\n",
        "        if i > maxTweets :\n",
        "            break  \n",
        "        csvWriter.writerow([tweet.id, tweet.date, tweet.content])"
      ],
      "execution_count": null,
      "outputs": []
    },
    {
      "cell_type": "code",
      "metadata": {
        "id": "_TLTX1YK07hb"
      },
      "source": [
        "csvFile.close()"
      ],
      "execution_count": null,
      "outputs": []
    },
    {
      "cell_type": "code",
      "metadata": {
        "id": "vMoCn7LU26pr"
      },
      "source": [
        ""
      ],
      "execution_count": null,
      "outputs": []
    }
  ]
}